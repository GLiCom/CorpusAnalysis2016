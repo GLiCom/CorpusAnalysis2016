{
 "cells": [
  {
   "cell_type": "markdown",
   "metadata": {},
   "source": [
    "# Estadística descriptiva"
   ]
  },
  {
   "cell_type": "code",
   "execution_count": null,
   "metadata": {
    "collapsed": true
   },
   "outputs": [],
   "source": [
    "import nltk\n",
    "#nltk.download('book')"
   ]
  },
  {
   "cell_type": "code",
   "execution_count": null,
   "metadata": {
    "collapsed": true
   },
   "outputs": [],
   "source": [
    "text = '''Neither a recession nor a collapse in revenue has yet been enough to convince \\\n",
    "Russian President Vladimir Putin that it’s time to join with OPEC and cut oil output to \\\n",
    "boost prices. His reasons may be pragmatic rather than political. Russia’s Energy \\\n",
    "Minister Alexander Novak and his Saudi Arabian, Venezuelan and Qatari counterparts \\\n",
    "agreed to freeze output at January levels on Tuesday. The world’s second-largest crude \\\n",
    "producer faces numerous obstacles to any deal that would actually cut production, even if \\\n",
    "Putin decides it’s in the national interest. Reducing the flow of crude might damage \\\n",
    "Russia’s fields and pipelines, require expensive new storage tanks or simply take too long. \\\n",
    "Prior to Tuesday’s agreement, Novak had said he could consider reductions if other producers \\\n",
    "joined in. Yet Igor Sechin, chief executive officer of the country’s largest oil company \\\n",
    "Rosneft OJSC and a close Putin ally, has resisted, saying last week in London that \\\n",
    "coordination would be difficult because no major producer seems willing to pare output. \\\n",
    "\"The history of relations with OPEC suggests that Russian companies are not keen to cut \\\n",
    "production,\" James Henderson, an oil and gas industry analyst at the Oxford Institute for \\\n",
    "Energy Studies, said by phone. \"There are certain practical difficulties, and the companies \\\n",
    "would rather somebody else did that, and they could benefit once the price goes up.\"'''"
   ]
  },
  {
   "cell_type": "markdown",
   "metadata": {},
   "source": [
    "## Promedio de longitud de palabras (esta vez de verdad)"
   ]
  },
  {
   "cell_type": "markdown",
   "metadata": {},
   "source": [
    "Trabajaremos de momento con una sola oración. Para esto separamos en oraciones:"
   ]
  },
  {
   "cell_type": "code",
   "execution_count": null,
   "metadata": {
    "collapsed": true
   },
   "outputs": [],
   "source": [
    "sentences = nltk.sent_tokenize(text)"
   ]
  },
  {
   "cell_type": "code",
   "execution_count": null,
   "metadata": {
    "collapsed": false
   },
   "outputs": [],
   "source": [
    "sentences"
   ]
  },
  {
   "cell_type": "markdown",
   "metadata": {},
   "source": [
    "Y seleccionamos la primera oración:"
   ]
  },
  {
   "cell_type": "code",
   "execution_count": null,
   "metadata": {
    "collapsed": true
   },
   "outputs": [],
   "source": [
    "sentence = sentences[0]"
   ]
  },
  {
   "cell_type": "code",
   "execution_count": null,
   "metadata": {
    "collapsed": false
   },
   "outputs": [],
   "source": [
    "sentence"
   ]
  },
  {
   "cell_type": "code",
   "execution_count": null,
   "metadata": {
    "collapsed": true
   },
   "outputs": [],
   "source": [
    "words = nltk.word_tokenize(sentence)"
   ]
  },
  {
   "cell_type": "code",
   "execution_count": null,
   "metadata": {
    "collapsed": false
   },
   "outputs": [],
   "source": [
    "words"
   ]
  },
  {
   "cell_type": "markdown",
   "metadata": {},
   "source": [
    "Recordamos la solución aproximada:"
   ]
  },
  {
   "cell_type": "code",
   "execution_count": null,
   "metadata": {
    "collapsed": false
   },
   "outputs": [],
   "source": [
    "len(sentence)/len(words)"
   ]
  },
  {
   "cell_type": "markdown",
   "metadata": {},
   "source": [
    "Pero el promedio en realidad se calcula así:\n",
    "\n",
    "$$\\mu = {\\sum_{w \\in words}{|w|} \\over {|words|}}$$\n",
    "\n",
    "Es decir que sumamos la longitud de cada palabra, y dividimos por el número de palabras."
   ]
  },
  {
   "cell_type": "markdown",
   "metadata": {},
   "source": [
    "Calculamos la longitud de cada palabra:"
   ]
  },
  {
   "cell_type": "code",
   "execution_count": null,
   "metadata": {
    "collapsed": false
   },
   "outputs": [],
   "source": [
    "word_len = [len(w) for w in words]\n",
    "\n",
    "print(word_len)"
   ]
  },
  {
   "cell_type": "markdown",
   "metadata": {},
   "source": [
    "Paréntesis: también podemos ver cada palabra con su longitud:"
   ]
  },
  {
   "cell_type": "code",
   "execution_count": null,
   "metadata": {
    "collapsed": false
   },
   "outputs": [],
   "source": [
    "[(w,len(w)) for w in words]"
   ]
  },
  {
   "cell_type": "markdown",
   "metadata": {},
   "source": [
    "Sumamos todas las longitudes:"
   ]
  },
  {
   "cell_type": "code",
   "execution_count": null,
   "metadata": {
    "collapsed": false
   },
   "outputs": [],
   "source": [
    "word_len_sum = sum(word_len)\n",
    "\n",
    "word_len_sum"
   ]
  },
  {
   "cell_type": "markdown",
   "metadata": {},
   "source": [
    "Y dividimos por el número de palabras:"
   ]
  },
  {
   "cell_type": "code",
   "execution_count": null,
   "metadata": {
    "collapsed": false
   },
   "outputs": [],
   "source": [
    "word_len_avg = word_len_sum/len(words)\n",
    "\n",
    "word_len_avg"
   ]
  },
  {
   "cell_type": "markdown",
   "metadata": {},
   "source": [
    "## Distribuciones"
   ]
  },
  {
   "cell_type": "markdown",
   "metadata": {},
   "source": [
    "La función `FreqDist()` nos da la distribución de frecuencia de los valores de una lista, p.ej.:"
   ]
  },
  {
   "cell_type": "code",
   "execution_count": null,
   "metadata": {
    "collapsed": false
   },
   "outputs": [],
   "source": [
    "nltk.FreqDist(['a','b','c','a','a','c','c','c'])"
   ]
  },
  {
   "cell_type": "markdown",
   "metadata": {},
   "source": [
    "Podemos aplicar lo mismo a las longitudes de palabras:"
   ]
  },
  {
   "cell_type": "code",
   "execution_count": null,
   "metadata": {
    "collapsed": false
   },
   "outputs": [],
   "source": [
    "len_dist = nltk.FreqDist(word_len)\n",
    "\n",
    "len_dist"
   ]
  },
  {
   "cell_type": "markdown",
   "metadata": {},
   "source": [
    "FreqDist incorpora funcionalidad para visualizar la distribución:"
   ]
  },
  {
   "cell_type": "markdown",
   "metadata": {},
   "source": [
    "Necesitamos incluir lo siguiente (en particular el `%matplotlib inline`) para que las gráficas aparezcan directamente dentro del Notebook."
   ]
  },
  {
   "cell_type": "code",
   "execution_count": null,
   "metadata": {
    "collapsed": false
   },
   "outputs": [],
   "source": [
    "%matplotlib inline\n",
    "import matplotlib.pyplot as plt"
   ]
  },
  {
   "cell_type": "code",
   "execution_count": null,
   "metadata": {
    "collapsed": false
   },
   "outputs": [],
   "source": [
    "len_dist.plot()"
   ]
  },
  {
   "cell_type": "markdown",
   "metadata": {},
   "source": [
    "Para tenerlo no por orden de frecuencia, pero por orden de longitud de palabra, es un poco más complicado:\n",
    "\n",
    "Tenemos que crear dos listas (de tamaño idéntico). La primera contiene solo las etiquetas (en nuestro caso la longitud de las palabras, pero también podrían ser las palabras mismas u otra cosa), y la segunda contiene los valores que corresponden a cada etiqueta."
   ]
  },
  {
   "cell_type": "markdown",
   "metadata": {},
   "source": [
    "Podemos usar matplotlib para crear gráficos:"
   ]
  },
  {
   "cell_type": "code",
   "execution_count": null,
   "metadata": {
    "collapsed": false
   },
   "outputs": [],
   "source": [
    "x=[length for length in len_dist.keys()]\n",
    "y=[len_dist[length] for length in len_dist.keys()]\n",
    "\n",
    "x,y"
   ]
  },
  {
   "cell_type": "code",
   "execution_count": null,
   "metadata": {
    "collapsed": false
   },
   "outputs": [],
   "source": [
    "plt.bar(x,y)"
   ]
  },
  {
   "cell_type": "markdown",
   "metadata": {},
   "source": [
    "### Métricas de dispersion"
   ]
  },
  {
   "cell_type": "markdown",
   "metadata": {},
   "source": [
    "Las métricas de dispersión suelen basarse en la diferencia entre el valor promedio y el valor de cada ejemplo.\n",
    "\n",
    "Por lo tanto calculamos para cada palabra la diferencia entre su longitud y la longitud esperada (promedio)"
   ]
  },
  {
   "cell_type": "code",
   "execution_count": null,
   "metadata": {
    "collapsed": false
   },
   "outputs": [],
   "source": [
    "word_len_diff = [len(w)-word_len_avg for w in words]\n",
    "\n",
    "word_len_diff"
   ]
  },
  {
   "cell_type": "markdown",
   "metadata": {},
   "source": [
    "### Desviación estándar"
   ]
  },
  {
   "cell_type": "markdown",
   "metadata": {},
   "source": [
    "Para tener una métrica de dispersión necesitamos agregar todas estas diferencias.\n",
    "\n",
    "Como vemos, al hacer la resta obtenemos valores positivos o negativos, según si el valor del ejemplo es más grande o más pequeño del valor esperado. Primero nos tenemos que asegurar que cada diferencia cuente como valor positivo (de otra forma se cancelarían entre ellos). La forma más habitual de hacerlo es calculando el cuadrado de la diferencia"
   ]
  },
  {
   "cell_type": "code",
   "execution_count": null,
   "metadata": {
    "collapsed": false
   },
   "outputs": [],
   "source": [
    "word_len_sq_diff = [diff**2 for diff in word_len_diff]\n",
    "\n",
    "word_len_sq_diff"
   ]
  },
  {
   "cell_type": "markdown",
   "metadata": {},
   "source": [
    "Ahora agregamos todos estos valores calculando el promedio (suma de los valores dividida por el número de los mismos), lo que nos da la varianza:"
   ]
  },
  {
   "cell_type": "code",
   "execution_count": null,
   "metadata": {
    "collapsed": false
   },
   "outputs": [],
   "source": [
    "variance = sum(word_len_sq_diff)/len(word_len_sq_diff)\n",
    "\n",
    "variance"
   ]
  },
  {
   "cell_type": "markdown",
   "metadata": {},
   "source": [
    "Y finalmente la desviación estándar (que es la métrica más utilizada) es la raíz cuadrada de la varianza:"
   ]
  },
  {
   "cell_type": "code",
   "execution_count": null,
   "metadata": {
    "collapsed": false
   },
   "outputs": [],
   "source": [
    "import math\n",
    "std_dev = math.sqrt(variance)\n",
    "\n",
    "std_dev"
   ]
  },
  {
   "cell_type": "markdown",
   "metadata": {
    "collapsed": true
   },
   "source": [
    "También podemos hacer todos estos cálculos en un solo paso:"
   ]
  },
  {
   "cell_type": "code",
   "execution_count": null,
   "metadata": {
    "collapsed": false
   },
   "outputs": [],
   "source": [
    "math.sqrt(sum([(len(w)-word_len_avg)**2 for w in words])/len(words))"
   ]
  },
  {
   "cell_type": "code",
   "execution_count": null,
   "metadata": {
    "collapsed": true
   },
   "outputs": [],
   "source": []
  }
 ],
 "metadata": {
  "kernelspec": {
   "display_name": "Python 3",
   "language": "python",
   "name": "python3"
  },
  "language_info": {
   "codemirror_mode": {
    "name": "ipython",
    "version": 3
   },
   "file_extension": ".py",
   "mimetype": "text/x-python",
   "name": "python",
   "nbconvert_exporter": "python",
   "pygments_lexer": "ipython3",
   "version": "3.4.3"
  }
 },
 "nbformat": 4,
 "nbformat_minor": 0
}
