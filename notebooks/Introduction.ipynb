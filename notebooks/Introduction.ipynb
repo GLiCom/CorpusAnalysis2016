{
 "cells": [
  {
   "cell_type": "markdown",
   "metadata": {},
   "source": [
    "# Pequeña introducción a NLTK o cómo analizar un corpus propio"
   ]
  },
  {
   "cell_type": "markdown",
   "metadata": {},
   "source": [
    "Primer paso: preparar utilización de NLTK (detalles sin importancia). Con `import` se definen lo módulos que se quieren usar.\n",
    "\n",
    "`nltk.download('book')` nos permite descargar varios recursos lingüísticos y corpus (todos los necesarios para los tutoriales en el libro oficial)."
   ]
  },
  {
   "cell_type": "code",
   "execution_count": null,
   "metadata": {
    "collapsed": false
   },
   "outputs": [],
   "source": [
    "import nltk\n",
    "nltk.download('book')"
   ]
  },
  {
   "cell_type": "markdown",
   "metadata": {},
   "source": [
    "## cargar el texto"
   ]
  },
  {
   "cell_type": "markdown",
   "metadata": {},
   "source": [
    "Usamos la variable `text` para guardar el el texto que queremos analizar. En adelante se puede hacer referencia al texto usando esta variable.\n",
    "\n",
    "El contenido textual se pone entre comillas, que pueden ser `\"...\"`, `'...'` o `'''...'''`."
   ]
  },
  {
   "cell_type": "code",
   "execution_count": null,
   "metadata": {
    "collapsed": true
   },
   "outputs": [],
   "source": [
    "text = '''Neither a recession nor a collapse in revenue has yet been enough to convince \\\n",
    "Russian President Vladimir Putin that it’s time to join with OPEC and cut oil output to \\\n",
    "boost prices. His reasons may be pragmatic rather than political. Russia’s Energy \\\n",
    "Minister Alexander Novak and his Saudi Arabian, Venezuelan and Qatari counterparts \\\n",
    "agreed to freeze output at January levels on Tuesday. The world’s second-largest crude \\\n",
    "producer faces numerous obstacles to any deal that would actually cut production, even if \\\n",
    "Putin decides it’s in the national interest. Reducing the flow of crude might damage \\\n",
    "Russia’s fields and pipelines, require expensive new storage tanks or simply take too long. \\\n",
    "Prior to Tuesday’s agreement, Novak had said he could consider reductions if other producers \\\n",
    "joined in. Yet Igor Sechin, chief executive officer of the country’s largest oil company \\\n",
    "Rosneft OJSC and a close Putin ally, has resisted, saying last week in London that \\\n",
    "coordination would be difficult because no major producer seems willing to pare output. \\\n",
    "\"The history of relations with OPEC suggests that Russian companies are not keen to cut \\\n",
    "production,\" James Henderson, an oil and gas industry analyst at the Oxford Institute for \\\n",
    "Energy Studies, said by phone. \"There are certain practical difficulties, and the companies \\\n",
    "would rather somebody else did that, and they could benefit once the price goes up.\"'''"
   ]
  },
  {
   "cell_type": "markdown",
   "metadata": {},
   "source": [
    "### ver el texto cargado"
   ]
  },
  {
   "cell_type": "markdown",
   "metadata": {},
   "source": [
    "Al poner el nombre de una variable en una célula de entrada, el sistema responde con el contenido de esta variable."
   ]
  },
  {
   "cell_type": "code",
   "execution_count": null,
   "metadata": {
    "collapsed": false
   },
   "outputs": [],
   "source": [
    "text"
   ]
  },
  {
   "cell_type": "markdown",
   "metadata": {},
   "source": [
    "Lo mismo funciona con una expresión matemática o cosas parecidas"
   ]
  },
  {
   "cell_type": "code",
   "execution_count": null,
   "metadata": {
    "collapsed": false
   },
   "outputs": [],
   "source": [
    "2+3"
   ]
  },
  {
   "cell_type": "markdown",
   "metadata": {},
   "source": [
    "### longitud del texto en caracteres"
   ]
  },
  {
   "cell_type": "markdown",
   "metadata": {},
   "source": [
    "La función `len()` devuelve el tamaño (length) del contenido de una variable. En el caso de que la variable contenga texto el resultado es el número de caracteres."
   ]
  },
  {
   "cell_type": "code",
   "execution_count": null,
   "metadata": {
    "collapsed": false
   },
   "outputs": [],
   "source": [
    "len(text)"
   ]
  },
  {
   "cell_type": "markdown",
   "metadata": {},
   "source": [
    "## segmentación en palabras"
   ]
  },
  {
   "cell_type": "markdown",
   "metadata": {},
   "source": [
    "NLTK contiene muchas funciones para trabajar con datos textuales. Primero tokenizamos el texto: el resultado es la lista de palabras de este texto (que guardamos en la variable `words`)."
   ]
  },
  {
   "cell_type": "code",
   "execution_count": null,
   "metadata": {
    "collapsed": false
   },
   "outputs": [],
   "source": [
    "words = nltk.word_tokenize(text)"
   ]
  },
  {
   "cell_type": "markdown",
   "metadata": {},
   "source": [
    "Podemos ver las el resultado:"
   ]
  },
  {
   "cell_type": "code",
   "execution_count": null,
   "metadata": {
    "collapsed": false
   },
   "outputs": [],
   "source": [
    "words"
   ]
  },
  {
   "cell_type": "markdown",
   "metadata": {},
   "source": [
    "### longitud del texto en palabras"
   ]
  },
  {
   "cell_type": "markdown",
   "metadata": {},
   "source": [
    "El tamaño de una lista es el número de elementos que contiene, en este caso el número de palabras (incluyendo puntuación)."
   ]
  },
  {
   "cell_type": "code",
   "execution_count": null,
   "metadata": {
    "collapsed": false
   },
   "outputs": [],
   "source": [
    "len(words)"
   ]
  },
  {
   "cell_type": "markdown",
   "metadata": {},
   "source": [
    "### longitud media de las palabras (incluyendo espacios)"
   ]
  },
  {
   "cell_type": "code",
   "execution_count": null,
   "metadata": {
    "collapsed": false
   },
   "outputs": [],
   "source": [
    "len(text)/len(words)"
   ]
  },
  {
   "cell_type": "markdown",
   "metadata": {},
   "source": [
    "## segmentación en oraciones"
   ]
  },
  {
   "cell_type": "markdown",
   "metadata": {},
   "source": [
    "NLTK también permite separar el texto en oraciones:"
   ]
  },
  {
   "cell_type": "code",
   "execution_count": null,
   "metadata": {
    "collapsed": false
   },
   "outputs": [],
   "source": [
    "sents = nltk.sent_tokenize(text)"
   ]
  },
  {
   "cell_type": "markdown",
   "metadata": {},
   "source": [
    "que podemos ver aquí:"
   ]
  },
  {
   "cell_type": "code",
   "execution_count": null,
   "metadata": {
    "collapsed": false
   },
   "outputs": [],
   "source": [
    "sents"
   ]
  },
  {
   "cell_type": "markdown",
   "metadata": {},
   "source": [
    "Y podemos contar el número de oraciones:"
   ]
  },
  {
   "cell_type": "code",
   "execution_count": null,
   "metadata": {
    "collapsed": false
   },
   "outputs": [],
   "source": [
    "len(sents)"
   ]
  },
  {
   "cell_type": "markdown",
   "metadata": {},
   "source": [
    "### número medio de palabras por oración (incluyendo puntuación)"
   ]
  },
  {
   "cell_type": "markdown",
   "metadata": {},
   "source": [
    "Python permite hacer todo tipo de cálculos matemáticos. Dividiendo el número de palabras por el número de oraciones obtenemos el número medio de palabras por oración:"
   ]
  },
  {
   "cell_type": "code",
   "execution_count": null,
   "metadata": {
    "collapsed": false
   },
   "outputs": [],
   "source": [
    "len(words)/len(sents)"
   ]
  },
  {
   "cell_type": "markdown",
   "metadata": {},
   "source": [
    "## Anotación con part-of-speech"
   ]
  },
  {
   "cell_type": "markdown",
   "metadata": {},
   "source": [
    "NLTK también nos permite anotar el texto con información adicional:"
   ]
  },
  {
   "cell_type": "code",
   "execution_count": null,
   "metadata": {
    "collapsed": true
   },
   "outputs": [],
   "source": [
    "tagged = nltk.pos_tag(words)"
   ]
  },
  {
   "cell_type": "markdown",
   "metadata": {},
   "source": [
    "El resultado es una lista que contiene pares de tipo `(forma,etiqueta)`:"
   ]
  },
  {
   "cell_type": "code",
   "execution_count": null,
   "metadata": {
    "collapsed": false
   },
   "outputs": [],
   "source": [
    "tagged"
   ]
  },
  {
   "cell_type": "markdown",
   "metadata": {},
   "source": [
    "Podemos extraer de esta lista la información que nos interesa, p.ej. solo la forma (lo que nos da una lista idéntica a la lista de palabras que teníamos antes):"
   ]
  },
  {
   "cell_type": "code",
   "execution_count": null,
   "metadata": {
    "collapsed": false
   },
   "outputs": [],
   "source": [
    "[form for form,pos in tagged]"
   ]
  },
  {
   "cell_type": "markdown",
   "metadata": {},
   "source": [
    "o solo la etiquetas:"
   ]
  },
  {
   "cell_type": "code",
   "execution_count": null,
   "metadata": {
    "collapsed": false
   },
   "outputs": [],
   "source": [
    "[pos for form,pos in tagged]"
   ]
  },
  {
   "cell_type": "markdown",
   "metadata": {},
   "source": [
    "También podemos aplicar filtros a nuestra lista:"
   ]
  },
  {
   "cell_type": "code",
   "execution_count": null,
   "metadata": {
    "collapsed": false
   },
   "outputs": [],
   "source": [
    "[form for form,pos in tagged if pos=='NNP']"
   ]
  },
  {
   "cell_type": "markdown",
   "metadata": {},
   "source": [
    "Y siempre podemos elegir qué debe contener el resultado, en este caso los pares `(forma,etiqueta)` completos, pero solo si la etiqueta empieza por `\"V\"` (es decir los verbos):"
   ]
  },
  {
   "cell_type": "code",
   "execution_count": null,
   "metadata": {
    "collapsed": false
   },
   "outputs": [],
   "source": [
    "[(form,pos) for form,pos in tagged if pos.startswith('V')]"
   ]
  },
  {
   "cell_type": "markdown",
   "metadata": {},
   "source": [
    "# Lematización"
   ]
  },
  {
   "cell_type": "markdown",
   "metadata": {},
   "source": [
    "El lematizador usa un tagset diferente del que nos da el POS-tagger, hay que convertirlo. Si no hay etiqueta correspondiente, ponemos el valor por defecto del lematizador: wn.NOUN"
   ]
  },
  {
   "cell_type": "code",
   "execution_count": null,
   "metadata": {
    "collapsed": true
   },
   "outputs": [],
   "source": [
    "from nltk.corpus import wordnet as wn\n",
    "def penn_to_wn(tag):\n",
    "    if tag in ['JJ', 'JJR', 'JJS']: # los adjetivos\n",
    "        return wn.ADJ\n",
    "    elif tag in ['NN', 'NNS', 'NNP', 'NNPS']: # los sustantivos\n",
    "        return wn.NOUN\n",
    "    elif tag in ['RB', 'RBR', 'RBS']: # los adverbios\n",
    "        return wn.ADV\n",
    "    elif tag in ['VB', 'VBD', 'VBG', 'VBN', 'VBP', 'VBZ']: # los verbos\n",
    "        return wn.VERB\n",
    "    else:\n",
    "        return wn.NOUN"
   ]
  },
  {
   "cell_type": "markdown",
   "metadata": {},
   "source": [
    "Función para aplicar la lematización con el tagset convertido"
   ]
  },
  {
   "cell_type": "code",
   "execution_count": null,
   "metadata": {
    "collapsed": true
   },
   "outputs": [],
   "source": [
    "from nltk.stem import WordNetLemmatizer\n",
    "def lemma(form,pos):\n",
    "    return WordNetLemmatizer().lemmatize(form,penn_to_wn(pos))"
   ]
  },
  {
   "cell_type": "markdown",
   "metadata": {},
   "source": [
    "Y finalmente lo aplicamos a nuestro texto. Al contrario del pos-tagging no se aplica al texto completo (lista de palabras) pero a cada palabra por separado:"
   ]
  },
  {
   "cell_type": "code",
   "execution_count": null,
   "metadata": {
    "collapsed": false
   },
   "outputs": [],
   "source": [
    "[(form,pos,lemma(form,pos)) for form,pos in tagged]"
   ]
  },
  {
   "cell_type": "markdown",
   "metadata": {},
   "source": [
    "También se puede iterar más explícitamente sobre la lista de palabras etiquetadas:"
   ]
  },
  {
   "cell_type": "code",
   "execution_count": null,
   "metadata": {
    "collapsed": false
   },
   "outputs": [],
   "source": [
    "for form,pos in tagged:\n",
    "    print(lemma(form,pos))"
   ]
  }
 ],
 "metadata": {
  "kernelspec": {
   "display_name": "Python 3",
   "language": "python",
   "name": "python3"
  },
  "language_info": {
   "codemirror_mode": {
    "name": "ipython",
    "version": 3
   },
   "file_extension": ".py",
   "mimetype": "text/x-python",
   "name": "python",
   "nbconvert_exporter": "python",
   "pygments_lexer": "ipython3",
   "version": "3.4.3"
  }
 },
 "nbformat": 4,
 "nbformat_minor": 0
}
