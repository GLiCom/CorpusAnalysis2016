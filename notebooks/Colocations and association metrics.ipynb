{
 "cells": [
  {
   "cell_type": "markdown",
   "metadata": {},
   "source": [
    "# Colocaciones y métricas de asociación"
   ]
  },
  {
   "cell_type": "markdown",
   "metadata": {},
   "source": [
    "En este notebook miraremos cómo detectar posibles colocaciones de forma estadística."
   ]
  },
  {
   "cell_type": "code",
   "execution_count": null,
   "metadata": {
    "collapsed": true
   },
   "outputs": [],
   "source": [
    "import nltk\n",
    "#nltk.download('book')"
   ]
  },
  {
   "cell_type": "markdown",
   "metadata": {},
   "source": [
    "Empezamos como siempre con un texto"
   ]
  },
  {
   "cell_type": "code",
   "execution_count": null,
   "metadata": {
    "collapsed": true
   },
   "outputs": [],
   "source": [
    "text = '''New York is a state in the Northeastern United States and is the 27th-most extensive, \\\n",
    "fourth-most populous, and seventh-most densely populated U.S. state. New York is bordered by \\\n",
    "New Jersey and Pennsylvania to the south and Connecticut, Massachusetts, and Vermont to the east. \\\n",
    "The state has a maritime border in the Atlantic Ocean with Rhode Island, east of Long Island, \\\n",
    "as well as an international border with the Canadian provinces of Quebec to the north and Ontario \\\n",
    "to the west and north. The state of New York, with an estimated 19.8 million residents in 2015, \\\n",
    "is often referred to as New York State to distinguish it from New York City, the state's most \\\n",
    "populous city and its economic hub.\n",
    "\n",
    "With an estimated population of nearly 8.5 million in 2014, New York City is the most populous \\\n",
    "city in the United States and the premier gateway for legal immigration to the United States. \\\n",
    "The New York City Metropolitan Area is one of the most populous urban agglomerations in the world. \\\n",
    "New York City is a global city, exerting a significant impact upon commerce, finance, media, \\\n",
    "art, fashion, research, technology, education, and entertainment, its fast pace defining the \\\n",
    "term New York minute. The home of the United Nations Headquarters, New York City is an important \\\n",
    "center for international diplomacy and has been described as the cultural and financial capital \\\n",
    "of the world, as well as the world's most economically powerful city. New York \\\n",
    "City makes up over 40% of the population of New York State. Two-thirds of the state's population \\\n",
    "lives in the New York City Metropolitan Area, and nearly 40% live on Long Island. Both the state \\\n",
    "and New York City were named for the 17th century Duke of York, future King James II of England. \\\n",
    "The next four most populous cities in the state are Buffalo, Rochester, Yonkers, and Syracuse, \\\n",
    "while the state capital is Albany.\n",
    "\n",
    "The earliest Europeans in New York were French colonists and Jesuit missionaries who arrived \\\n",
    "southward from settlements at Montreal for trade and proselytizing. New York had been inhabited \\\n",
    "by tribes of Algonquian and Iroquoian-speaking Native Americans for several hundred years by the \\\n",
    "time Dutch settlers moved into the region in the early 17th century. In 1609, the region was first \\\n",
    "claimed by Henry Hudson for the Dutch, who built Fort Nassau in 1614 at the confluence of the \\\n",
    "Hudson and Mohawk rivers, where the present-day capital of Albany later developed. The Dutch soon \\\n",
    "also settled New Amsterdam and parts of the Hudson Valley, establishing the colony of New \\\n",
    "Netherland, a multicultural community from its earliest days and a center of trade and immigration. \\\n",
    "The British annexed the colony from the Dutch in 1664. The borders of the British colony, the \\\n",
    "Province of New York, were similar to those of the present-day state.'''"
   ]
  },
  {
   "cell_type": "markdown",
   "metadata": {},
   "source": [
    "## N-gramas"
   ]
  },
  {
   "cell_type": "markdown",
   "metadata": {},
   "source": [
    "Para detectar colocaciones primero necesitamos las posibles combinaciones de palabras que aparecen en el texto. Nos limitamos aquí a secuencias de dos palabras consecutivas, llamadas bigramas."
   ]
  },
  {
   "cell_type": "markdown",
   "metadata": {},
   "source": [
    "Convertimos el texto en bigramas:"
   ]
  },
  {
   "cell_type": "code",
   "execution_count": null,
   "metadata": {
    "collapsed": true
   },
   "outputs": [],
   "source": [
    "words = nltk.word_tokenize(text)\n",
    "bigrams = list(nltk.bigrams(words))"
   ]
  },
  {
   "cell_type": "code",
   "execution_count": null,
   "metadata": {
    "collapsed": false
   },
   "outputs": [],
   "source": [
    "bigrams"
   ]
  },
  {
   "cell_type": "markdown",
   "metadata": {},
   "source": [
    "Podemos ver la distribución de frecuencias de estos bigramas:"
   ]
  },
  {
   "cell_type": "code",
   "execution_count": null,
   "metadata": {
    "collapsed": true
   },
   "outputs": [],
   "source": [
    "fd = nltk.FreqDist(bigrams)"
   ]
  },
  {
   "cell_type": "code",
   "execution_count": null,
   "metadata": {
    "collapsed": false
   },
   "outputs": [],
   "source": [
    "fd"
   ]
  },
  {
   "cell_type": "code",
   "execution_count": null,
   "metadata": {
    "collapsed": false
   },
   "outputs": [],
   "source": [
    "fd.most_common()"
   ]
  },
  {
   "cell_type": "markdown",
   "metadata": {},
   "source": [
    "## Ahora con un corpus grande"
   ]
  },
  {
   "cell_type": "markdown",
   "metadata": {},
   "source": [
    "En textos cortos claramente no tenemos suficiente información para detectar colocaciones de forma general, por lo tanto necesitamos un corpus grande (cuanto más grande, mejor)."
   ]
  },
  {
   "cell_type": "markdown",
   "metadata": {},
   "source": [
    "Usamos el Brown corpus que es parte del paquete 'book' de NTLK, por lo que ya lo tenemos descargado en nuestro workspace."
   ]
  },
  {
   "cell_type": "code",
   "execution_count": null,
   "metadata": {
    "collapsed": true
   },
   "outputs": [],
   "source": [
    "from nltk.corpus import brown"
   ]
  },
  {
   "cell_type": "markdown",
   "metadata": {},
   "source": [
    "Este corpus ya contiene el texto tokenizado:"
   ]
  },
  {
   "cell_type": "code",
   "execution_count": null,
   "metadata": {
    "collapsed": false
   },
   "outputs": [],
   "source": [
    "brown.words()"
   ]
  },
  {
   "cell_type": "markdown",
   "metadata": {},
   "source": [
    "Y podemos ver que es bastante grande:"
   ]
  },
  {
   "cell_type": "code",
   "execution_count": null,
   "metadata": {
    "collapsed": true
   },
   "outputs": [],
   "source": [
    "total_words_brown = len(brown.words())"
   ]
  },
  {
   "cell_type": "code",
   "execution_count": null,
   "metadata": {
    "collapsed": false
   },
   "outputs": [],
   "source": [
    "total_words_brown"
   ]
  },
  {
   "cell_type": "markdown",
   "metadata": {},
   "source": [
    "Podemos obtener la lista de bigramas de la misma forma que con nuestro propio texto. Usamos la función `list()` para asegurarnos que el resultado sea una lista, y que podamos trabajar como en los ejercicios anteriores."
   ]
  },
  {
   "cell_type": "code",
   "execution_count": null,
   "metadata": {
    "collapsed": true
   },
   "outputs": [],
   "source": [
    "bg = list(nltk.bigrams(brown.words()))"
   ]
  },
  {
   "cell_type": "markdown",
   "metadata": {},
   "source": [
    "Vemos los 20 primeros bigramas de la lista:"
   ]
  },
  {
   "cell_type": "code",
   "execution_count": null,
   "metadata": {
    "collapsed": false
   },
   "outputs": [],
   "source": [
    "bg[:20]"
   ]
  },
  {
   "cell_type": "markdown",
   "metadata": {},
   "source": [
    "Y ahora miramos los bigramas más frecuentes:"
   ]
  },
  {
   "cell_type": "code",
   "execution_count": null,
   "metadata": {
    "collapsed": true
   },
   "outputs": [],
   "source": [
    "bigram_dist = nltk.FreqDist(bg)"
   ]
  },
  {
   "cell_type": "code",
   "execution_count": null,
   "metadata": {
    "collapsed": false
   },
   "outputs": [],
   "source": [
    "bigram_dist.most_common()"
   ]
  },
  {
   "cell_type": "markdown",
   "metadata": {
    "collapsed": true
   },
   "source": [
    "Vemos que no son muy útiles, solo contienen palabras muy comunes. Tendremos que usar otra métrica."
   ]
  },
  {
   "cell_type": "markdown",
   "metadata": {},
   "source": [
    "### Métricas de asociación"
   ]
  },
  {
   "cell_type": "markdown",
   "metadata": {},
   "source": [
    "NLTK proporciona varias métricas de asociación, parecidas o idénticas a las que encontramos en BNCweb:"
   ]
  },
  {
   "cell_type": "code",
   "execution_count": null,
   "metadata": {
    "collapsed": true
   },
   "outputs": [],
   "source": [
    "from nltk.metrics.association import BigramAssocMeasures"
   ]
  },
  {
   "cell_type": "markdown",
   "metadata": {},
   "source": [
    "Las métricas se calculan en base a los siguientes valores (con los nombres de las variables que usaremos para referirnos a ellos):\n",
    "* la frecuencia de coocurencia de las dos palabras (es decir la frecuencia del bigrama): `co_freq`\n",
    "* la frecuencia de cada una de las palabras de forma independiente: `w1_freq` y `w2_freq`\n",
    "* el tamaño de la colección: `total_words_bnc`"
   ]
  },
  {
   "cell_type": "markdown",
   "metadata": {},
   "source": [
    "En BNCweb, buscando colocaciones para 'water', únicamente justo a la izquierda (donde suelen estar los adjetivos que lo modificarían), encontramos p.ej. los siguientes valores para la colocación con \"boiling\":"
   ]
  },
  {
   "cell_type": "code",
   "execution_count": null,
   "metadata": {
    "collapsed": true
   },
   "outputs": [],
   "source": [
    "co_freq = 233 # frecuencia del bigrama \"boiling water\"\n",
    "w1_freq = 881 # frecuencia de \"boiling\"\n",
    "w2_freq = 34325 # frecuencia de \"water\"\n",
    "total_words_bnc = 98313429 # tamaño del BNC"
   ]
  },
  {
   "cell_type": "markdown",
   "metadata": {},
   "source": [
    "Le aplicamos la métrica `pmi` que corresponde a la \"Mutual Information\" en BNCweb.\n",
    "\n",
    "Se calcula según esta fórmula:\n",
    "$$ PMI = \\log(\\text{co_freq} * \\text{total}) - \\log(\\text{w1_freq} \\cdot \\text{w1_freq})$$\n",
    "\n",
    "o de forma más general:\n",
    "$$PMI = \\log {p(w1,w2) \\over p(w1) p(w2)}$$\n",
    "\n",
    "es decir la probabilidad que las dos palabras aparecen juntas, comparado con la probabilidad si fueran independientes ( lo que corresponde a la \"Expected collocate frequency\" en BNCweb)."
   ]
  },
  {
   "cell_type": "code",
   "execution_count": null,
   "metadata": {
    "collapsed": false
   },
   "outputs": [],
   "source": [
    "BigramAssocMeasures.pmi(co_freq,(w1_freq,w2_freq), total_words_bnc)"
   ]
  },
  {
   "cell_type": "markdown",
   "metadata": {},
   "source": [
    "Y hacemos lo mismo con la métrica `likelihood_ratio` (\"Log-likelihood\" en BNC). La fórmula en este caso es un poco más complicada, así que nos la saltamos."
   ]
  },
  {
   "cell_type": "code",
   "execution_count": null,
   "metadata": {
    "collapsed": false
   },
   "outputs": [],
   "source": [
    "BigramAssocMeasures.likelihood_ratio(co_freq,(w1_freq,w2_freq), total_words_bnc)"
   ]
  },
  {
   "cell_type": "markdown",
   "metadata": {},
   "source": [
    "Podemos ver que conseguimos resultados muy parecidos a los que nos da BNCweb. Hay una pequeña diferencia porque hay diferentes variantes y aproximaciones al hacer el cálculo, pero no es importante para nosotros."
   ]
  },
  {
   "cell_type": "markdown",
   "metadata": {},
   "source": [
    "### Ranking de colocaciones"
   ]
  },
  {
   "cell_type": "markdown",
   "metadata": {},
   "source": [
    "Ahora aplicaremos estas métricas a todos los bigramas que hemos encontrado para detectar los bigramas con más posibilidad de ser colocaciones (o por lo menos combinaciones interesantes)."
   ]
  },
  {
   "cell_type": "markdown",
   "metadata": {},
   "source": [
    "Ya tenemos la frecuencia de cada bigrama y el tamaño total del corpus, por lo que nos falta la frecuencia de cada palabra por separado:"
   ]
  },
  {
   "cell_type": "code",
   "execution_count": null,
   "metadata": {
    "collapsed": true
   },
   "outputs": [],
   "source": [
    "word_dist = nltk.FreqDist(brown.words())"
   ]
  },
  {
   "cell_type": "code",
   "execution_count": null,
   "metadata": {
    "collapsed": false
   },
   "outputs": [],
   "source": [
    "word_dist.most_common()"
   ]
  },
  {
   "cell_type": "markdown",
   "metadata": {},
   "source": [
    "Y ahora lo aplicamos a toda la colección. Creamos una lista que para cada bigrama distinto de nuestro texto (que obtenemos con `bigram_dist.keys()`) contiene:\n",
    "* el bigrama mismo, p.ej. `('New', 'York')`\n",
    "* su valor de información mútua,\n",
    "\n",
    "sabiendo que el valor de información mútua se basa en:\n",
    "* la frecuencia del bigrama: `bigram_dist[bigram]`\n",
    "* la frecuencia de cada palabra: `word_dist[bigram[0]]` y `word_dist[bigram[1]]`\n",
    "* el tamaño del corpus: `total_words_brown`"
   ]
  },
  {
   "cell_type": "code",
   "execution_count": null,
   "metadata": {
    "collapsed": false
   },
   "outputs": [],
   "source": [
    "pmi_list = [(bigram,\n",
    "             BigramAssocMeasures.pmi(bigram_dist[bigram],\n",
    "                                     (word_dist[bigram[0]],word_dist[bigram[1]]),\n",
    "                                     total_words_brown)\n",
    "            ) for bigram in bigram_dist.keys()]"
   ]
  },
  {
   "cell_type": "markdown",
   "metadata": {},
   "source": [
    "Ordenamos la lista para ver los bigramas con la asociación más fuerte. `sorted(mi_lista)` devuelve la lista de forma ordenada, y `key=lambda x: -x[1]` significa que lo queremos ordenador por por el valor del segundo elemento (es decir el PMI) de mayor a menor."
   ]
  },
  {
   "cell_type": "code",
   "execution_count": null,
   "metadata": {
    "collapsed": false
   },
   "outputs": [],
   "source": [
    "pmi_list.sort(key=lambda x: -x[1])"
   ]
  },
  {
   "cell_type": "markdown",
   "metadata": {},
   "source": [
    "Y miramos los 20 primeros bigramas:"
   ]
  },
  {
   "cell_type": "code",
   "execution_count": null,
   "metadata": {
    "collapsed": false
   },
   "outputs": [],
   "source": [
    "pmi_list[:20]"
   ]
  },
  {
   "cell_type": "markdown",
   "metadata": {},
   "source": [
    "Para evitar bigramas que casi nunca aparecen en el corpus podemos filtrar la lista (mínimo tres co-occurrencias):"
   ]
  },
  {
   "cell_type": "code",
   "execution_count": null,
   "metadata": {
    "collapsed": true
   },
   "outputs": [],
   "source": [
    "pmi_list_filtered = [(bigram,pmi) for bigram,pmi in pmi_list if bigram_dist[bigram] >= 3]"
   ]
  },
  {
   "cell_type": "code",
   "execution_count": null,
   "metadata": {
    "collapsed": false
   },
   "outputs": [],
   "source": [
    "pmi_list_filtered[:20]"
   ]
  },
  {
   "cell_type": "markdown",
   "metadata": {
    "collapsed": true
   },
   "source": [
    "Y mirando solo las colocaciones de una palabra concreta:"
   ]
  },
  {
   "cell_type": "code",
   "execution_count": null,
   "metadata": {
    "collapsed": true
   },
   "outputs": [],
   "source": [
    "pmi_list_good = [(bigram,pmi) for bigram,pmi in pmi_list_filtered if bigram[0]=='good']"
   ]
  },
  {
   "cell_type": "code",
   "execution_count": null,
   "metadata": {
    "collapsed": false
   },
   "outputs": [],
   "source": [
    "pmi_list_good"
   ]
  },
  {
   "cell_type": "code",
   "execution_count": null,
   "metadata": {
    "collapsed": true
   },
   "outputs": [],
   "source": []
  }
 ],
 "metadata": {
  "kernelspec": {
   "display_name": "Python 3",
   "language": "python",
   "name": "python3"
  },
  "language_info": {
   "codemirror_mode": {
    "name": "ipython",
    "version": 3
   },
   "file_extension": ".py",
   "mimetype": "text/x-python",
   "name": "python",
   "nbconvert_exporter": "python",
   "pygments_lexer": "ipython3",
   "version": "3.4.3"
  }
 },
 "nbformat": 4,
 "nbformat_minor": 0
}
